{
 "cells": [
  {
   "cell_type": "markdown",
   "metadata": {},
   "source": [
    "This script estimates the spectroscopic S/N in a resolution element. It only accounts for photon noise, no sky noise, readout noise, etc."
   ]
  },
  {
   "cell_type": "code",
   "execution_count": 71,
   "metadata": {},
   "outputs": [],
   "source": [
    "import numpy as np\n",
    "# magnitude, AB (note that by definition V(AB) ~ V(Vega))\n",
    "m = 19\n",
    "# conversion to f_nu and f_lambda\n",
    "f_nu = 10**((m-8.9)/-2.5) # Jy\n",
    "f_lam = f_nu * (1/3.34e4) * (5150)**(-2) # erg cm^-2 sec^-1 AA^-1"
   ]
  },
  {
   "cell_type": "code",
   "execution_count": 72,
   "metadata": {},
   "outputs": [],
   "source": [
    "diameter = 100 #in cm\n",
    "area = np.pi * diameter**2 / 4. # cm^2\n",
    "#exposure time, sec\n",
    "exptime = 1800\n",
    "flux = f_lam* area * exptime"
   ]
  },
  {
   "cell_type": "code",
   "execution_count": 73,
   "metadata": {},
   "outputs": [],
   "source": [
    "# resolution\n",
    "R = 100\n",
    "# one resolution element at 5150 AA\n",
    "delta_lam = 5150 / R\n",
    "# Planck's constant\n",
    "h = 6.62e-27 #erg sec\n",
    "# Freq at 5150 AA\n",
    "nu = 3e10/5150e-10 # Hz\n",
    "# total system efficiency\n",
    "eff = 0.45\n",
    "# flux in one resolution element at 5150 AA\n",
    "flux_photons=eff*flux*delta_lam / (h*nu)"
   ]
  },
  {
   "cell_type": "code",
   "execution_count": 74,
   "metadata": {},
   "outputs": [
    {
     "name": "stdout",
     "output_type": "stream",
     "text": [
      "S/N = 9.4\n"
     ]
    }
   ],
   "source": [
    "print(\"S/N =\",np.round(np.sqrt(flux_photons),1))"
   ]
  },
  {
   "cell_type": "code",
   "execution_count": null,
   "metadata": {},
   "outputs": [],
   "source": []
  }
 ],
 "metadata": {
  "kernelspec": {
   "display_name": "Python 3",
   "language": "python",
   "name": "python3"
  },
  "language_info": {
   "codemirror_mode": {
    "name": "ipython",
    "version": 3
   },
   "file_extension": ".py",
   "mimetype": "text/x-python",
   "name": "python",
   "nbconvert_exporter": "python",
   "pygments_lexer": "ipython3",
   "version": "3.8.1"
  }
 },
 "nbformat": 4,
 "nbformat_minor": 2
}
